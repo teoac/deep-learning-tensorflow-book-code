{
 "cells": [
  {
   "cell_type": "code",
   "execution_count": 1,
   "metadata": {},
   "outputs": [],
   "source": [
    "import tensorflow as tf\n",
    "import numpy as np\n",
    "import matplotlib.pyplot as plt"
   ]
  },
  {
   "cell_type": "code",
   "execution_count": 2,
   "metadata": {},
   "outputs": [
    {
     "name": "stderr",
     "output_type": "stream",
     "text": [
      "WARNING: Logging before flag parsing goes to stderr.\n",
      "W0807 01:04:31.855593 140549755098880 deprecation.py:323] From <ipython-input-2-8e926371c039>:2: read_data_sets (from tensorflow.contrib.learn.python.learn.datasets.mnist) is deprecated and will be removed in a future version.\n",
      "Instructions for updating:\n",
      "Please use alternatives such as official/mnist/dataset.py from tensorflow/models.\n",
      "W0807 01:04:31.856710 140549755098880 deprecation.py:323] From /home/teoac/solarisTutorial/lib/python3.5/site-packages/tensorflow/contrib/learn/python/learn/datasets/mnist.py:260: maybe_download (from tensorflow.contrib.learn.python.learn.datasets.base) is deprecated and will be removed in a future version.\n",
      "Instructions for updating:\n",
      "Please write your own downloading logic.\n",
      "W0807 01:04:31.858271 140549755098880 deprecation.py:323] From /home/teoac/solarisTutorial/lib/python3.5/site-packages/tensorflow/contrib/learn/python/learn/datasets/mnist.py:262: extract_images (from tensorflow.contrib.learn.python.learn.datasets.mnist) is deprecated and will be removed in a future version.\n",
      "Instructions for updating:\n",
      "Please use tf.data to implement this functionality.\n"
     ]
    },
    {
     "name": "stdout",
     "output_type": "stream",
     "text": [
      "Extracting dataOneHot/train-images-idx3-ubyte.gz\n"
     ]
    },
    {
     "name": "stderr",
     "output_type": "stream",
     "text": [
      "W0807 01:04:32.075746 140549755098880 deprecation.py:323] From /home/teoac/solarisTutorial/lib/python3.5/site-packages/tensorflow/contrib/learn/python/learn/datasets/mnist.py:267: extract_labels (from tensorflow.contrib.learn.python.learn.datasets.mnist) is deprecated and will be removed in a future version.\n",
      "Instructions for updating:\n",
      "Please use tf.data to implement this functionality.\n",
      "W0807 01:04:32.078369 140549755098880 deprecation.py:323] From /home/teoac/solarisTutorial/lib/python3.5/site-packages/tensorflow/contrib/learn/python/learn/datasets/mnist.py:110: dense_to_one_hot (from tensorflow.contrib.learn.python.learn.datasets.mnist) is deprecated and will be removed in a future version.\n",
      "Instructions for updating:\n",
      "Please use tf.one_hot on tensors.\n",
      "W0807 01:04:32.120748 140549755098880 deprecation.py:323] From /home/teoac/solarisTutorial/lib/python3.5/site-packages/tensorflow/contrib/learn/python/learn/datasets/mnist.py:290: DataSet.__init__ (from tensorflow.contrib.learn.python.learn.datasets.mnist) is deprecated and will be removed in a future version.\n",
      "Instructions for updating:\n",
      "Please use alternatives such as official/mnist/dataset.py from tensorflow/models.\n"
     ]
    },
    {
     "name": "stdout",
     "output_type": "stream",
     "text": [
      "Extracting dataOneHot/train-labels-idx1-ubyte.gz\n",
      "Extracting dataOneHot/t10k-images-idx3-ubyte.gz\n",
      "Extracting dataOneHot/t10k-labels-idx1-ubyte.gz\n"
     ]
    }
   ],
   "source": [
    "from tensorflow.examples.tutorials.mnist import input_data\n",
    "mnist = input_data.read_data_sets('dataOneHot/', one_hot=True)"
   ]
  },
  {
   "cell_type": "code",
   "execution_count": 3,
   "metadata": {},
   "outputs": [],
   "source": [
    "learning_rate = 0.02\n",
    "training_epochs = 500 # 학습횟수\n",
    "batch_size = 256 # 배치 개수\n",
    "display_step = 10 # 손실 함수 출력 주기\n",
    "examples_to_show = 10 # 보여줄 MNIST Reconstruction 이미지 개수\n",
    "input_size = 784 # 28x28\n",
    "hidden1_size = 256\n",
    "hidden2_size = 128\n",
    "tolerance = 0.000001"
   ]
  },
  {
   "cell_type": "code",
   "execution_count": 4,
   "metadata": {},
   "outputs": [],
   "source": [
    "# Autoencoder는 Unsupervised Learning이므로 타겟 레이블(label) y가 필요하지 않습니다.\n",
    "x = tf.placeholder(tf.float32, shape=[None,input_size], name='input')"
   ]
  },
  {
   "cell_type": "code",
   "execution_count": 5,
   "metadata": {},
   "outputs": [],
   "source": [
    "def build_autoencoder(x):\n",
    "    # 인코딩(Encoding): 784 -> 256 -> 128\n",
    "    W1 = tf.Variable(tf.random_normal(shape=[input_size, hidden1_size]), name='W1')\n",
    "    b1 = tf.Variable(tf.random_normal(shape=[hidden1_size]), name='b1')\n",
    "    H1_output = tf.nn.sigmoid(tf.matmul(x,W1) + b1)\n",
    "    W2 = tf.Variable(tf.random_normal(shape=[hidden1_size, hidden2_size]), name='W2')\n",
    "    b2 = tf.Variable(tf.random_normal(shape=[hidden2_size]), name='b2')\n",
    "    H2_output = tf.nn.sigmoid(tf.matmul(H1_output,W2) + b2)\n",
    "    # 디코딩(decoding): 128 -> 256-> -> 784\n",
    "    W3 = tf.Variable(tf.random_normal(shape=[hidden2_size, hidden1_size]), name='W3')\n",
    "    b3 = tf.Variable(tf.random_normal(shape=[hidden1_size]), name='b3')\n",
    "    H3_output = tf.nn.sigmoid(tf.matmul(H2_output,W3) + b3)\n",
    "    W4 = tf.Variable(tf.random_normal(shape=[hidden1_size, input_size]), name='W4')\n",
    "    b4 = tf.Variable(tf.random_normal(shape=[input_size]), name='b4')\n",
    "    reconstructed_x = tf.nn.sigmoid(tf.matmul(H3_output,W4) + b4)    \n",
    "    return reconstructed_x"
   ]
  },
  {
   "cell_type": "code",
   "execution_count": 6,
   "metadata": {},
   "outputs": [],
   "source": [
    "y_pred = build_autoencoder(x)\n",
    "y_true = x # 타겟 데이터는 입력과 같습니다."
   ]
  },
  {
   "cell_type": "code",
   "execution_count": 7,
   "metadata": {},
   "outputs": [
    {
     "name": "stderr",
     "output_type": "stream",
     "text": [
      "W0807 01:04:32.520188 140549755098880 deprecation.py:323] From /home/teoac/solarisTutorial/lib/python3.5/site-packages/tensorflow/python/ops/math_grad.py:1205: add_dispatch_support.<locals>.wrapper (from tensorflow.python.ops.array_ops) is deprecated and will be removed in a future version.\n",
      "Instructions for updating:\n",
      "Use tf.where in 2.0, which has the same broadcast rule as np.where\n",
      "W0807 01:04:32.614243 140549755098880 deprecation.py:506] From /home/teoac/solarisTutorial/lib/python3.5/site-packages/tensorflow/python/training/rmsprop.py:119: calling Ones.__init__ (from tensorflow.python.ops.init_ops) with dtype is deprecated and will be removed in a future version.\n",
      "Instructions for updating:\n",
      "Call initializer instance with the dtype argument instead of passing it to the constructor\n"
     ]
    },
    {
     "data": {
      "text/plain": [
       "<tf.Tensor 'Loss:0' shape=() dtype=string>"
      ]
     },
     "execution_count": 7,
     "metadata": {},
     "output_type": "execute_result"
    }
   ],
   "source": [
    "loss = tf.reduce_mean(tf.pow(y_true - y_pred, 2))\n",
    "train_step = tf.train.RMSPropOptimizer(learning_rate).minimize(loss)\n",
    "tf.summary.scalar(\"Loss\", loss)"
   ]
  },
  {
   "cell_type": "code",
   "execution_count": 8,
   "metadata": {},
   "outputs": [
    {
     "name": "stdout",
     "output_type": "stream",
     "text": [
      "Epoch: 1, Loss: 0.340150\n",
      "Epoch: 10, Loss: 0.078823\n",
      "Epoch: 20, Loss: 0.059008\n",
      "Epoch: 30, Loss: 0.054419\n",
      "Epoch: 40, Loss: 0.049808\n",
      "Epoch: 50, Loss: 0.046552\n",
      "Epoch: 60, Loss: 0.044340\n",
      "Epoch: 70, Loss: 0.042080\n",
      "Epoch: 80, Loss: 0.039257\n",
      "Epoch: 90, Loss: 0.036327\n",
      "Epoch: 100, Loss: 0.033966\n",
      "Epoch: 100, Loss: 0.033966\n"
     ]
    },
    {
     "data": {
      "image/png": "[encoded data removed]",
      "text/plain": [
       "<Figure size 720x144 with 20 Axes>"
      ]
     },
     "metadata": {
      "needs_background": "light"
     },
     "output_type": "display_data"
    }
   ],
   "source": [
    "with tf.Session() as sess:\n",
    "    sess.run(tf.global_variables_initializer())\n",
    "    merged = tf.summary.merge_all()\n",
    "    tensorboard_writer = tf.summary.FileWriter('./tensorboard_log', sess.graph)\n",
    "    epoch = 0\n",
    "    average_loss_prev = 0.0\n",
    "    while epoch < training_epochs:\n",
    "        average_loss = 0.0\n",
    "        #전체 배치를 불러옵니다.\n",
    "        total_batch = int(mnist.train.num_examples/batch_size)\n",
    "        # 모든 배치들에 대해서 최적화를 수행합니다.\n",
    "        for i in range(total_batch):\n",
    "            batch_x, batch_y = mnist.train.next_batch(batch_size)\n",
    "            # 옵티마이저를 실행해서 파라미터들을 업데이트 합니다.\n",
    "            _, current_loss = sess.run([train_step, loss], feed_dict={x:batch_x})\n",
    "            # 평균 손실을 측정합니다.\n",
    "            average_loss += current_loss / total_batch\n",
    "        # 텐서보드에 기록합니다.\n",
    "        summary = sess.run(merged, feed_dict={x: batch_x})\n",
    "        tensorboard_writer.add_summary(summary, epoch)\n",
    "        # 지정된 epoch마다 학습결과를 출력합니다.\n",
    "        if epoch%display_step == display_step-1 or epoch == 0:\n",
    "            print('Epoch: %d, Loss: %f' %((epoch+1), average_loss))\n",
    "        #수렴했으면 학습종료\n",
    "        if abs(average_loss_prev - average_loss) < tolerance:\n",
    "            print('Epoch: %d, Loss: %f' %((epoch+1), average_loss))\n",
    "            break\n",
    "        average_loss_prev = average_loss\n",
    "        epoch += 1\n",
    "    \n",
    "    # 테스트 이미지로 Reconstruction을 수행합니다.\n",
    "    reconstructed_result = sess.run(y_pred, feed_dict={x:mnist.test.images[:examples_to_show]})\n",
    "    # 원본 MNIST 데이터와 Reconstruction 결과를 비교합니다.\n",
    "    f, a = plt.subplots(2,10, figsize=(10,2))\n",
    "    for i in range(examples_to_show):\n",
    "        a[0][i].imshow(np.reshape(mnist.test.images[i], (28,28)))\n",
    "        a[1][i].imshow(np.reshape(reconstructed_result[i], (28,28)))\n",
    "    f.savefig('reconstucted_mnist_image_tutorial.png')"
   ]
  }
 ],
 "metadata": {
  "kernelspec": {
   "display_name": "Python 3",
   "language": "python",
   "name": "python3"
  },
  "language_info": {
   "codemirror_mode": {
    "name": "ipython",
    "version": 3
   },
   "file_extension": ".py",
   "mimetype": "text/x-python",
   "name": "python",
   "nbconvert_exporter": "python",
   "pygments_lexer": "ipython3",
   "version": "3.5.2"
  }
 },
 "nbformat": 4,
 "nbformat_minor": 4
}
