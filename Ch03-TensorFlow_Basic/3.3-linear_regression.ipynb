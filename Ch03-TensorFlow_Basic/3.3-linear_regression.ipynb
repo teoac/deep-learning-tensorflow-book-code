{
 "cells": [
  {
   "cell_type": "code",
   "execution_count": 1,
   "metadata": {},
   "outputs": [],
   "source": [
    "import tensorflow as tf"
   ]
  },
  {
   "cell_type": "code",
   "execution_count": 2,
   "metadata": {},
   "outputs": [],
   "source": [
    "# 선형 회의 모델(Wx + b)를 정의합니다.\n",
    "W = tf.Variable(tf.random_normal(shape=[1]))\n",
    "b = tf.Variable(tf.random_normal(shape=[1]))\n",
    "x = tf.placeholder(tf.float32)\n",
    "linear_model = tf.add(tf.multiply(W,x), b) # W*x + b"
   ]
  },
  {
   "cell_type": "code",
   "execution_count": 3,
   "metadata": {},
   "outputs": [],
   "source": [
    "# 참값을 받기 위한 플레이스홀드를 정의합니다.\n",
    "y = tf.placeholder(tf.float32)"
   ]
  },
  {
   "cell_type": "code",
   "execution_count": 4,
   "metadata": {},
   "outputs": [],
   "source": [
    "# 손실함수를 정의합니다.\n",
    "loss = tf.reduce_mean(tf.square(linear_model - y)) # MSE 손실함수 \\mean{(y' - y)^2}"
   ]
  },
  {
   "cell_type": "code",
   "execution_count": 5,
   "metadata": {},
   "outputs": [],
   "source": [
    "# 최적화를 위한 경사하강법 최적화 도구를 정의합니다.\n",
    "optimizer = tf.train.GradientDescentOptimizer(0.01)\n",
    "train_step = optimizer.minimize(loss)"
   ]
  },
  {
   "cell_type": "code",
   "execution_count": 6,
   "metadata": {},
   "outputs": [],
   "source": [
    "# 트레이닝을 위한 입력값과 출력값을 준비합니다.\n",
    "x_train = [1,2,3,4]\n",
    "y_train = [3,5,7,9] # 2x + 1"
   ]
  },
  {
   "cell_type": "code",
   "execution_count": 7,
   "metadata": {},
   "outputs": [],
   "source": [
    "# 세션을 실행하고 파라미터를 normal distribution에서 추출한 임의의 값으로 초기화합니다.\n",
    "sess = tf.Session()\n",
    "sess.run(tf.global_variables_initializer())"
   ]
  },
  {
   "cell_type": "code",
   "execution_count": 8,
   "metadata": {},
   "outputs": [
    {
     "name": "stdout",
     "output_type": "stream",
     "text": [
      "# 0 :  [11.714018 23.906033 40.40108  61.199165]\n",
      "# 1000 :  [1.8463954e-03 4.3353785e-04 1.7572347e-06 5.5101648e-04]\n",
      "# 2000 :  [4.5961351e-06 1.0775987e-06 4.5847628e-09 1.3759745e-06]\n",
      "# 3000 :  [1.1716338e-08 2.8014711e-09 5.6843419e-12 3.2741809e-09]\n",
      "# 4000 :  [1.5370460e-10 2.2737368e-11 3.6379788e-12 9.0949470e-11]\n",
      "# 5000 :  [1.5370460e-10 2.2737368e-11 3.6379788e-12 9.0949470e-11]\n",
      "# 6000 :  [1.5370460e-10 2.2737368e-11 3.6379788e-12 9.0949470e-11]\n",
      "# 7000 :  [1.5370460e-10 2.2737368e-11 3.6379788e-12 9.0949470e-11]\n",
      "# 8000 :  [1.5370460e-10 2.2737368e-11 3.6379788e-12 9.0949470e-11]\n",
      "# 9000 :  [1.5370460e-10 2.2737368e-11 3.6379788e-12 9.0949470e-11]\n"
     ]
    }
   ],
   "source": [
    "# 경사하강법을 1000번 수행합니다.\n",
    "for i in range(10000):\n",
    "    sess.run(train_step, feed_dict={x:x_train, y:y_train})\n",
    "    if i%1000==0:\n",
    "        print(\"#\",i,\": \", sess.run(tf.square(linear_model - y), feed_dict={x:x_train, y:y_train}))"
   ]
  },
  {
   "cell_type": "code",
   "execution_count": 9,
   "metadata": {},
   "outputs": [
    {
     "name": "stdout",
     "output_type": "stream",
     "text": [
      "[ 8.000006 11.000017 12.000021 13.000024] [2.0000074] [0.9999802]\n"
     ]
    }
   ],
   "source": [
    "# 테스트를 위한 입력값 준비\n",
    "x_test = [3.5, 5, 5.5, 6]\n",
    "print(sess.run(linear_model, feed_dict={x:x_test}), sess.run(W), sess.run(b))"
   ]
  },
  {
   "cell_type": "code",
   "execution_count": 10,
   "metadata": {},
   "outputs": [],
   "source": [
    "sess.close()"
   ]
  }
 ],
 "metadata": {
  "kernelspec": {
   "display_name": "Python 3",
   "language": "python",
   "name": "python3"
  },
  "language_info": {
   "codemirror_mode": {
    "name": "ipython",
    "version": 3
   },
   "file_extension": ".py",
   "mimetype": "text/x-python",
   "name": "python",
   "nbconvert_exporter": "python",
   "pygments_lexer": "ipython3",
   "version": "3.5.2"
  }
 },
 "nbformat": 4,
 "nbformat_minor": 4
}
