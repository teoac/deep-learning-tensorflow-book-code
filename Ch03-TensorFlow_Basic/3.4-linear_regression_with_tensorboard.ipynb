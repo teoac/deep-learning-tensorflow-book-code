{
 "cells": [
  {
   "cell_type": "code",
   "execution_count": 1,
   "metadata": {},
   "outputs": [],
   "source": [
    "import tensorflow as tf"
   ]
  },
  {
   "cell_type": "code",
   "execution_count": 2,
   "metadata": {},
   "outputs": [],
   "source": [
    "# 선형 회의 모델(Wx + b)를 정의합니다.\n",
    "W = tf.Variable(tf.random_normal(shape=[1]), name='W')\n",
    "b = tf.Variable(tf.random_normal(shape=[1]), name='b')\n",
    "x = tf.placeholder(tf.float32, name='x')\n",
    "hypothesis = tf.add(tf.multiply(W,x), b) # W*x + b"
   ]
  },
  {
   "cell_type": "code",
   "execution_count": 3,
   "metadata": {},
   "outputs": [],
   "source": [
    "# 참값을 받기 위한 플레이스홀드를 정의합니다.\n",
    "y = tf.placeholder(tf.float32, name='y')"
   ]
  },
  {
   "cell_type": "code",
   "execution_count": 4,
   "metadata": {},
   "outputs": [
    {
     "data": {
      "text/plain": [
       "<tf.Tensor 'Loss:0' shape=() dtype=string>"
      ]
     },
     "execution_count": 4,
     "metadata": {},
     "output_type": "execute_result"
    }
   ],
   "source": [
    "# 손실함수를 정의합니다.\n",
    "loss = tf.reduce_mean(tf.square(hypothesis - y)) # MSE 손실함수 \\mean{(y' - y)^2}\n",
    "\n",
    "# 텐서보드를 위한 요약 정보(scalar)를 정의합니다.\n",
    "tf.summary.scalar(\"Loss\", loss)"
   ]
  },
  {
   "cell_type": "code",
   "execution_count": 5,
   "metadata": {},
   "outputs": [],
   "source": [
    "# 최적화를 위한 경사하강법 최적화 도구를 정의합니다.\n",
    "optimizer = tf.train.GradientDescentOptimizer(0.01)\n",
    "train_step = optimizer.minimize(loss)"
   ]
  },
  {
   "cell_type": "code",
   "execution_count": 6,
   "metadata": {},
   "outputs": [],
   "source": [
    "# 트레이닝을 위한 입력값과 출력값을 준비합니다.\n",
    "x_train = [1,2,3,4]\n",
    "y_train = [3,5,7,9] # 2x + 1"
   ]
  },
  {
   "cell_type": "code",
   "execution_count": 7,
   "metadata": {},
   "outputs": [],
   "source": [
    "# 세션을 실행하고 파라미터를 normal distribution에서 추출한 임의의 값으로 초기화합니다.\n",
    "sess = tf.Session()\n",
    "sess.run(tf.global_variables_initializer())\n",
    "\n",
    "# 텐서보드 요약정보들을 하나로 합칩니다.\n",
    "merged = tf.summary.merge_all()\n",
    "# 텐서보드 summary 정보들을 저장할 폴더 경로를 설정합니다.\n",
    "tensorboard_writer = tf.summary.FileWriter('./tensorboard_log', sess.graph)"
   ]
  },
  {
   "cell_type": "code",
   "execution_count": 8,
   "metadata": {},
   "outputs": [
    {
     "name": "stdout",
     "output_type": "stream",
     "text": [
      "# 0 :  [4.219905  5.0849385 6.0305653 7.0567865]\n",
      "# 1000 :  [2.7724216e-03 6.5097061e-04 2.6423734e-06 8.2740939e-04]\n",
      "# 2000 :  [6.8980771e-06 1.6184968e-06 6.7266228e-09 2.0627667e-06]\n",
      "# 3000 :  [1.7698994e-08 4.2675765e-09 8.1854523e-12 4.9803930e-09]\n",
      "# 4000 :  [1.5370460e-10 2.2737368e-11 3.6379788e-12 9.0949470e-11]\n",
      "# 5000 :  [1.5370460e-10 2.2737368e-11 3.6379788e-12 9.0949470e-11]\n",
      "# 6000 :  [1.5370460e-10 2.2737368e-11 3.6379788e-12 9.0949470e-11]\n",
      "# 7000 :  [1.5370460e-10 2.2737368e-11 3.6379788e-12 9.0949470e-11]\n",
      "# 8000 :  [1.5370460e-10 2.2737368e-11 3.6379788e-12 9.0949470e-11]\n",
      "# 9000 :  [1.5370460e-10 2.2737368e-11 3.6379788e-12 9.0949470e-11]\n"
     ]
    }
   ],
   "source": [
    "# 경사하강법을 10000번 수행합니다.\n",
    "for i in range(10000):\n",
    "    sess.run(train_step, feed_dict={x:x_train, y:y_train})\n",
    "    summary = sess.run(merged, feed_dict={x: x_train, y: y_train})\n",
    "    tensorboard_writer.add_summary(summary, i)\n",
    "    if i%1000==0:\n",
    "        print(\"#\",i,\": \", sess.run(tf.square(hypothesis - y), feed_dict={x:x_train, y:y_train}))"
   ]
  },
  {
   "cell_type": "code",
   "execution_count": 9,
   "metadata": {},
   "outputs": [
    {
     "name": "stdout",
     "output_type": "stream",
     "text": [
      "[ 8.000006 11.000017 12.000021 13.000024] [2.0000074] [0.9999802]\n"
     ]
    }
   ],
   "source": [
    "# 테스트를 위한 입력값 준비\n",
    "x_test = [3.5, 5, 5.5, 6]\n",
    "print(sess.run(hypothesis, feed_dict={x:x_test}), sess.run(W), sess.run(b))"
   ]
  },
  {
   "cell_type": "code",
   "execution_count": 10,
   "metadata": {},
   "outputs": [],
   "source": [
    "sess.close()"
   ]
  }
 ],
 "metadata": {
  "kernelspec": {
   "display_name": "Python 3",
   "language": "python",
   "name": "python3"
  },
  "language_info": {
   "codemirror_mode": {
    "name": "ipython",
    "version": 3
   },
   "file_extension": ".py",
   "mimetype": "text/x-python",
   "name": "python",
   "nbconvert_exporter": "python",
   "pygments_lexer": "ipython3",
   "version": "3.5.2"
  }
 },
 "nbformat": 4,
 "nbformat_minor": 4
}
