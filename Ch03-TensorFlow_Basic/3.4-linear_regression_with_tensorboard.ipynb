{
 "cells": [
  {
   "cell_type": "code",
   "execution_count": 1,
   "metadata": {},
   "outputs": [
    {
     "name": "stderr",
     "output_type": "stream",
     "text": [
      "/home/teoac/solarisTutorial/lib/python3.5/site-packages/tensorflow/python/framework/dtypes.py:516: FutureWarning: Passing (type, 1) or '1type' as a synonym of type is deprecated; in a future version of numpy, it will be understood as (type, (1,)) / '(1,)type'.\n",
      "  _np_qint8 = np.dtype([(\"qint8\", np.int8, 1)])\n",
      "/home/teoac/solarisTutorial/lib/python3.5/site-packages/tensorflow/python/framework/dtypes.py:517: FutureWarning: Passing (type, 1) or '1type' as a synonym of type is deprecated; in a future version of numpy, it will be understood as (type, (1,)) / '(1,)type'.\n",
      "  _np_quint8 = np.dtype([(\"quint8\", np.uint8, 1)])\n",
      "/home/teoac/solarisTutorial/lib/python3.5/site-packages/tensorflow/python/framework/dtypes.py:518: FutureWarning: Passing (type, 1) or '1type' as a synonym of type is deprecated; in a future version of numpy, it will be understood as (type, (1,)) / '(1,)type'.\n",
      "  _np_qint16 = np.dtype([(\"qint16\", np.int16, 1)])\n",
      "/home/teoac/solarisTutorial/lib/python3.5/site-packages/tensorflow/python/framework/dtypes.py:519: FutureWarning: Passing (type, 1) or '1type' as a synonym of type is deprecated; in a future version of numpy, it will be understood as (type, (1,)) / '(1,)type'.\n",
      "  _np_quint16 = np.dtype([(\"quint16\", np.uint16, 1)])\n",
      "/home/teoac/solarisTutorial/lib/python3.5/site-packages/tensorflow/python/framework/dtypes.py:520: FutureWarning: Passing (type, 1) or '1type' as a synonym of type is deprecated; in a future version of numpy, it will be understood as (type, (1,)) / '(1,)type'.\n",
      "  _np_qint32 = np.dtype([(\"qint32\", np.int32, 1)])\n",
      "/home/teoac/solarisTutorial/lib/python3.5/site-packages/tensorflow/python/framework/dtypes.py:525: FutureWarning: Passing (type, 1) or '1type' as a synonym of type is deprecated; in a future version of numpy, it will be understood as (type, (1,)) / '(1,)type'.\n",
      "  np_resource = np.dtype([(\"resource\", np.ubyte, 1)])\n",
      "/home/teoac/solarisTutorial/lib/python3.5/site-packages/tensorboard/compat/tensorflow_stub/dtypes.py:541: FutureWarning: Passing (type, 1) or '1type' as a synonym of type is deprecated; in a future version of numpy, it will be understood as (type, (1,)) / '(1,)type'.\n",
      "  _np_qint8 = np.dtype([(\"qint8\", np.int8, 1)])\n",
      "/home/teoac/solarisTutorial/lib/python3.5/site-packages/tensorboard/compat/tensorflow_stub/dtypes.py:542: FutureWarning: Passing (type, 1) or '1type' as a synonym of type is deprecated; in a future version of numpy, it will be understood as (type, (1,)) / '(1,)type'.\n",
      "  _np_quint8 = np.dtype([(\"quint8\", np.uint8, 1)])\n",
      "/home/teoac/solarisTutorial/lib/python3.5/site-packages/tensorboard/compat/tensorflow_stub/dtypes.py:543: FutureWarning: Passing (type, 1) or '1type' as a synonym of type is deprecated; in a future version of numpy, it will be understood as (type, (1,)) / '(1,)type'.\n",
      "  _np_qint16 = np.dtype([(\"qint16\", np.int16, 1)])\n",
      "/home/teoac/solarisTutorial/lib/python3.5/site-packages/tensorboard/compat/tensorflow_stub/dtypes.py:544: FutureWarning: Passing (type, 1) or '1type' as a synonym of type is deprecated; in a future version of numpy, it will be understood as (type, (1,)) / '(1,)type'.\n",
      "  _np_quint16 = np.dtype([(\"quint16\", np.uint16, 1)])\n",
      "/home/teoac/solarisTutorial/lib/python3.5/site-packages/tensorboard/compat/tensorflow_stub/dtypes.py:545: FutureWarning: Passing (type, 1) or '1type' as a synonym of type is deprecated; in a future version of numpy, it will be understood as (type, (1,)) / '(1,)type'.\n",
      "  _np_qint32 = np.dtype([(\"qint32\", np.int32, 1)])\n",
      "/home/teoac/solarisTutorial/lib/python3.5/site-packages/tensorboard/compat/tensorflow_stub/dtypes.py:550: FutureWarning: Passing (type, 1) or '1type' as a synonym of type is deprecated; in a future version of numpy, it will be understood as (type, (1,)) / '(1,)type'.\n",
      "  np_resource = np.dtype([(\"resource\", np.ubyte, 1)])\n"
     ]
    }
   ],
   "source": [
    "import tensorflow as tf"
   ]
  },
  {
   "cell_type": "code",
   "execution_count": 2,
   "metadata": {},
   "outputs": [],
   "source": [
    "# 선형 회의 모델(Wx + b)를 정의합니다.\n",
    "W = tf.Variable(tf.random_normal(shape=[1]), name='W')\n",
    "b = tf.Variable(tf.random_normal(shape=[1]), name='b')\n",
    "x = tf.placeholder(tf.float32, name='x')\n",
    "hypothesis = tf.add(tf.multiply(W,x), b) # W*x + b"
   ]
  },
  {
   "cell_type": "code",
   "execution_count": 3,
   "metadata": {},
   "outputs": [],
   "source": [
    "# 참값을 받기 위한 플레이스홀드를 정의합니다.\n",
    "y = tf.placeholder(tf.float32, name='y')"
   ]
  },
  {
   "cell_type": "code",
   "execution_count": 4,
   "metadata": {},
   "outputs": [
    {
     "data": {
      "text/plain": [
       "<tf.Tensor 'Loss:0' shape=() dtype=string>"
      ]
     },
     "execution_count": 4,
     "metadata": {},
     "output_type": "execute_result"
    }
   ],
   "source": [
    "# 손실함수를 정의합니다.\n",
    "loss = tf.reduce_mean(tf.square(hypothesis - y)) # MSE 손실함수 \\mean{(y' - y)^2}\n",
    "\n",
    "# 텐서보드를 위한 요약 정보(scalar)를 정의합니다.\n",
    "tf.summary.scalar(\"Loss\", loss)"
   ]
  },
  {
   "cell_type": "code",
   "execution_count": 5,
   "metadata": {},
   "outputs": [],
   "source": [
    "# 최적화를 위한 경사하강법 최적화 도구를 정의합니다.\n",
    "optimizer = tf.train.GradientDescentOptimizer(0.01)\n",
    "train_step = optimizer.minimize(loss)"
   ]
  },
  {
   "cell_type": "code",
   "execution_count": 6,
   "metadata": {},
   "outputs": [],
   "source": [
    "# 트레이닝을 위한 입력값과 출력값을 준비합니다.\n",
    "x_train = [1,2,3,4]\n",
    "y_train = [3,5,7,9] # 2x + 1"
   ]
  },
  {
   "cell_type": "code",
   "execution_count": 7,
   "metadata": {},
   "outputs": [],
   "source": [
    "# 세션을 실행하고 파라미터를 normal distribution에서 추출한 임의의 값으로 초기화합니다.\n",
    "sess = tf.Session()\n",
    "sess.run(tf.global_variables_initializer())\n",
    "\n",
    "# 텐서보드 요약정보들을 하나로 합칩니다.\n",
    "merged = tf.summary.merge_all()\n",
    "# 텐서보드 summary 정보들을 저장할 폴더 경로를 설정합니다.\n",
    "tensorboard_writer = tf.summary.FileWriter('./tensorboard_log', sess.graph)"
   ]
  },
  {
   "cell_type": "code",
   "execution_count": 8,
   "metadata": {},
   "outputs": [
    {
     "name": "stdout",
     "output_type": "stream",
     "text": [
      "# 0 :  [ 0.17728236  1.7355063   9.338046   22.984901  ]\n",
      "# 1000 :  [6.5823910e-03 1.5456118e-03 6.2693744e-06 1.9644408e-03]\n",
      "# 2000 :  [1.6369819e-05 3.8445578e-06 1.5607839e-08 4.8868278e-06]\n",
      "# 3000 :  [4.1262865e-08 9.7427346e-09 3.2741809e-11 1.2238161e-08]\n",
      "# 4000 :  [2.3283064e-10 5.1159077e-11 9.0949470e-13 9.0949470e-11]\n",
      "# 5000 :  [2.3283064e-10 5.1159077e-11 9.0949470e-13 9.0949470e-11]\n",
      "# 6000 :  [2.3283064e-10 5.1159077e-11 9.0949470e-13 9.0949470e-11]\n",
      "# 7000 :  [2.3283064e-10 5.1159077e-11 9.0949470e-13 9.0949470e-11]\n",
      "# 8000 :  [2.3283064e-10 5.1159077e-11 9.0949470e-13 9.0949470e-11]\n",
      "# 9000 :  [2.3283064e-10 5.1159077e-11 9.0949470e-13 9.0949470e-11]\n"
     ]
    }
   ],
   "source": [
    "# 경사하강법을 10000번 수행합니다.\n",
    "for i in range(10000):\n",
    "    sess.run(train_step, feed_dict={x:x_train, y:y_train})\n",
    "    summary = sess.run(merged, feed_dict={x: x_train, y: y_train})\n",
    "    tensorboard_writer.add_summary(summary, i)\n",
    "    if i%1000==0:\n",
    "        print(\"#\",i,\": \", sess.run(tf.square(hypothesis - y), feed_dict={x:x_train, y:y_train}))"
   ]
  },
  {
   "cell_type": "code",
   "execution_count": 9,
   "metadata": {},
   "outputs": [
    {
     "name": "stdout",
     "output_type": "stream",
     "text": [
      "[ 7.999995 10.999983 11.999979 12.999974] [1.9999918] [1.0000236]\n"
     ]
    }
   ],
   "source": [
    "# 테스트를 위한 입력값 준비\n",
    "x_test = [3.5, 5, 5.5, 6]\n",
    "print(sess.run(hypothesis, feed_dict={x:x_test}), sess.run(W), sess.run(b))"
   ]
  },
  {
   "cell_type": "code",
   "execution_count": 10,
   "metadata": {},
   "outputs": [],
   "source": [
    "sess.close()"
   ]
  }
 ],
 "metadata": {
  "kernelspec": {
   "display_name": "Python 3",
   "language": "python",
   "name": "python3"
  },
  "language_info": {
   "codemirror_mode": {
    "name": "ipython",
    "version": 3
   },
   "file_extension": ".py",
   "mimetype": "text/x-python",
   "name": "python",
   "nbconvert_exporter": "python",
   "pygments_lexer": "ipython3",
   "version": "3.5.2"
  }
 },
 "nbformat": 4,
 "nbformat_minor": 4
}
